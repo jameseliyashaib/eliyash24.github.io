{
  "cells": [
    {
      "cell_type": "markdown",
      "source": [
        "# New Section for machine learning"
      ],
      "metadata": {
        "id": "wZo09YYAyouk"
      }
    },
    {
      "cell_type": "code",
      "source": [],
      "metadata": {
        "id": "h_qUXh6vyyco"
      },
      "execution_count": null,
      "outputs": []
    }
  ],
  "metadata": {
    "colab": {
      "name": "beginner.ipynb",
      "toc_visible": true,
      "provenance": []
    },
    "kernelspec": {
      "display_name": "Python 3",
      "name": "python3"
    }
  },
  "nbformat": 4,
  "nbformat_minor": 0
}